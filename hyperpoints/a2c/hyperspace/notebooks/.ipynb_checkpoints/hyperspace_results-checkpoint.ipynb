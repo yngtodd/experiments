{
 "cells": [
  {
   "cell_type": "code",
   "execution_count": 1,
   "metadata": {},
   "outputs": [
    {
     "name": "stderr",
     "output_type": "stream",
     "text": [
      "/home/ygx/dev/kassa/anaconda3/lib/python3.6/site-packages/sklearn/ensemble/weight_boosting.py:29: DeprecationWarning: numpy.core.umath_tests is an internal NumPy module and should not be imported. It will be removed in a future NumPy release.\n",
      "  from numpy.core.umath_tests import inner1d\n"
     ]
    }
   ],
   "source": [
    "from hyperspace.kepler import load_results"
   ]
  },
  {
   "cell_type": "code",
   "execution_count": 2,
   "metadata": {},
   "outputs": [],
   "source": [
    "def objective():\n",
    "    pass"
   ]
  },
  {
   "cell_type": "code",
   "execution_count": 3,
   "metadata": {},
   "outputs": [],
   "source": [
    "hyperspace_path = '/home/ygx/dev/nykyinen/experiments/hyperpoints/a2c/hyperspace/results'"
   ]
  },
  {
   "cell_type": "code",
   "execution_count": 4,
   "metadata": {},
   "outputs": [],
   "source": [
    "results = load_results(hyperspace_path)"
   ]
  },
  {
   "cell_type": "code",
   "execution_count": 5,
   "metadata": {},
   "outputs": [
    {
     "data": {
      "text/plain": [
       "          fun: -1.3672000000000002\n",
       "    func_vals: array([-1.3672])\n",
       "       models: []\n",
       " random_state: <mtrand.RandomState object at 0x7f17c645b708>\n",
       "        space: Space([Integer(low=5, high=10),\n",
       "       Integer(low=5, high=8),\n",
       "       Integer(low=5, high=8),\n",
       "       Real(low=0.37124999999999997, high=0.99, prior='uniform', transform='normalize')])\n",
       "        specs: {'args': {'n_jobs': 1, 'kappa': 1.96, 'xi': 0.01, 'n_restarts_optimizer': 5, 'n_points': 10000, 'callback': [<skopt.callbacks.DeadlineStopper object at 0x7f17c6451eb8>, <hyperspace.rover.checkpoints.CheckpointSaver object at 0x7f17c6451f28>, <skopt.callbacks.VerboseCallback object at 0x7f17c6451f98>], 'verbose': True, 'random_state': <mtrand.RandomState object at 0x7f17c645b708>, 'y0': array([-1.3672]), 'x0': [[8, 8, 8, 0.8954870133726778]], 'acq_optimizer': 'auto', 'acq_func': 'gp_hedge', 'n_random_starts': 9, 'n_calls': 20, 'base_estimator': GaussianProcessRegressor(alpha=1e-10, copy_X_train=True,\n",
       "             kernel=1**2 * Matern(length_scale=[1, 1, 1, 1], nu=2.5),\n",
       "             n_restarts_optimizer=2, noise='gaussian', normalize_y=True,\n",
       "             optimizer='fmin_l_bfgs_b', random_state=209652396), 'dimensions': Space([Integer(low=5, high=10),\n",
       "       Integer(low=5, high=8),\n",
       "       Integer(low=5, high=8),\n",
       "       Real(low=0.37124999999999997, high=0.99, prior='uniform', transform='normalize')]), 'func': <function objective at 0x7f182036f8c8>}, 'function': 'base_minimize'}\n",
       "            x: [8, 8, 8, 0.8954870133726778]\n",
       "      x_iters: [[8, 8, 8, 0.8954870133726778]]"
      ]
     },
     "execution_count": 5,
     "metadata": {},
     "output_type": "execute_result"
    }
   ],
   "source": [
    "results[0]"
   ]
  },
  {
   "cell_type": "code",
   "execution_count": 8,
   "metadata": {},
   "outputs": [],
   "source": [
    "checkpoint_path = '/home/ygx/dev/nykyinen/experiments/hyperpoints/a2c/hyperspace/checkpoint3'"
   ]
  },
  {
   "cell_type": "code",
   "execution_count": 9,
   "metadata": {},
   "outputs": [],
   "source": [
    "checkpoint = load_results(checkpoint_path)"
   ]
  },
  {
   "cell_type": "code",
   "execution_count": 11,
   "metadata": {},
   "outputs": [
    {
     "data": {
      "text/plain": [
       "          fun: -1.3672000000000002\n",
       "    func_vals: array([-1.3672])\n",
       "       models: []\n",
       " random_state: <mtrand.RandomState object at 0x7f1826021b88>\n",
       "        space: Space([Integer(low=5, high=10),\n",
       "       Integer(low=5, high=8),\n",
       "       Integer(low=5, high=8),\n",
       "       Real(low=0.37124999999999997, high=0.99, prior='uniform', transform='normalize')])\n",
       "        specs: {'args': {'n_jobs': 1, 'kappa': 1.96, 'xi': 0.01, 'n_restarts_optimizer': 5, 'n_points': 10000, 'callback': [<skopt.callbacks.DeadlineStopper object at 0x7f182601e828>, <hyperspace.rover.checkpoints.CheckpointSaver object at 0x7f182601e898>, <skopt.callbacks.VerboseCallback object at 0x7f182601e908>], 'verbose': True, 'random_state': <mtrand.RandomState object at 0x7f1826021b88>, 'y0': array([-1.3672]), 'x0': [[8, 8, 8, 0.8954870133726778]], 'acq_optimizer': 'auto', 'acq_func': 'gp_hedge', 'n_random_starts': 9, 'n_calls': 20, 'base_estimator': GaussianProcessRegressor(alpha=1e-10, copy_X_train=True,\n",
       "             kernel=1**2 * Matern(length_scale=[1, 1, 1, 1], nu=2.5),\n",
       "             n_restarts_optimizer=2, noise='gaussian', normalize_y=True,\n",
       "             optimizer='fmin_l_bfgs_b', random_state=209652396), 'dimensions': Space([Integer(low=5, high=10),\n",
       "       Integer(low=5, high=8),\n",
       "       Integer(low=5, high=8),\n",
       "       Real(low=0.37124999999999997, high=0.99, prior='uniform', transform='normalize')]), 'func': <function objective at 0x7f182036f8c8>}, 'function': 'base_minimize'}\n",
       "            x: [8, 8, 8, 0.8954870133726778]\n",
       "      x_iters: [[8, 8, 8, 0.8954870133726778]]"
      ]
     },
     "execution_count": 11,
     "metadata": {},
     "output_type": "execute_result"
    }
   ],
   "source": [
    "checkpoint[0]"
   ]
  },
  {
   "cell_type": "code",
   "execution_count": null,
   "metadata": {},
   "outputs": [],
   "source": []
  }
 ],
 "metadata": {
  "kernelspec": {
   "display_name": "Python 3",
   "language": "python",
   "name": "python3"
  },
  "language_info": {
   "codemirror_mode": {
    "name": "ipython",
    "version": 3
   },
   "file_extension": ".py",
   "mimetype": "text/x-python",
   "name": "python",
   "nbconvert_exporter": "python",
   "pygments_lexer": "ipython3",
   "version": "3.6.5"
  }
 },
 "nbformat": 4,
 "nbformat_minor": 2
}
